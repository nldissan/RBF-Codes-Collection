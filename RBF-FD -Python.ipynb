{
 "cells": [
  {
   "cell_type": "markdown",
   "metadata": {},
   "source": [
    "# RBF-FD Method\n",
    "\n",
    "### "
   ]
  },
  {
   "cell_type": "code",
   "execution_count": 1,
   "metadata": {},
   "outputs": [],
   "source": [
    "# Import numpy\n",
    "import numpy as np"
   ]
  },
  {
   "cell_type": "markdown",
   "metadata": {},
   "source": [
    "## Node distribution setup"
   ]
  },
  {
   "cell_type": "code",
   "execution_count": 2,
   "metadata": {},
   "outputs": [],
   "source": [
    "# Set up the domain and create the cartesian node distribution - RBF centers\n",
    "# You can use other node distributions as well - if that's the case, code it up here and label your x coordinates as 'x' and y\n",
    "#coordinates as 'y'\n",
    "\n",
    "# Domain is [a,b] X [c,d] \n",
    "a=-2;\n",
    "b=2;\n",
    "c=-2;\n",
    "d=2;\n",
    "\n",
    "Nx=100; # Number of nodes on the x axis \n",
    "Ny=100; # Number of nodes on the y axis \n",
    "\n",
    "# Line space\n",
    "x1=np.linspace(a,b,Nx);\n",
    "y1=np.linspace(c,d,Ny);\n",
    "\n",
    "# Create a meshgrid\n",
    "xd, yd = np.meshgrid(x1, y1);\n",
    "\n",
    "# Nodes (x,y)\n",
    "x=xd.flatten('F');\n",
    "y=yd.flatten('F');\n",
    "\n",
    "# If you want to look at the node distribution uncomment the following 4 commands\n",
    "\n",
    "#import matplotlib.pyplot as plt\n",
    "#plt.rcParams[\"figure.figsize\"] = (20,20)\n",
    "#plt.plot(x,y,'.')\n",
    "#plt.show()\n"
   ]
  },
  {
   "cell_type": "markdown",
   "metadata": {},
   "source": [
    "## Define the radial basis functions\n",
    "\n",
    "### Here I have used polyharmonic splines"
   ]
  },
  {
   "cell_type": "code",
   "execution_count": 3,
   "metadata": {},
   "outputs": [],
   "source": [
    "import math\n",
    "\n",
    "def phi(X1,X2,Y1,Y2,epsil):\n",
    "    return np.sqrt(np.power((np.power(X1-X2,2)+np.power(Y1-Y2,2)),epsil))\n",
    "\n",
    "# Derivative with respective to x of phi\n",
    "def phi_x(X1,X2,Y1,Y2,epsil):\n",
    "    return -1*epsil*np.multiply((X1-X2),np.sqrt(np.power((np.power(X1-X2,2)+np.power(Y1-Y2,2)),epsil-2)))\n",
    "\n",
    "# Derivative with respective to y of phi\n",
    "def phi_y(X1,X2,Y1,Y2,epsil):\n",
    "    return -1*epsil*np.multiply((Y1-Y2),np.sqrt(np.power((np.power(X1-X2,2)+np.power(Y1-Y2,2)),epsil-2)))\n",
    "\n",
    "# Laplacian of phi\n",
    "def phi_lap(X1,X2,Y1,Y2,epsil):\n",
    "    return -4*epsil**2*np.exp(-(epsil**2)*(np.power(X1-X2,2)+np.power(Y1-Y2,2)))+4*epsil**2*np.multiply((np.power(X1-X2,2)+np.power(Y1-Y2,2)),np.exp(-(epsil**2)*(np.power(X1-X2,2)+np.power(Y1-Y2,2))))\n"
   ]
  },
  {
   "cell_type": "markdown",
   "metadata": {},
   "source": [
    "## Parameters "
   ]
  },
  {
   "cell_type": "code",
   "execution_count": 4,
   "metadata": {},
   "outputs": [],
   "source": [
    "# Augmented polynomial degree\n",
    "p=4; \n",
    "\n",
    "# RBF Order\n",
    "m=7;\n",
    "\n",
    "# Number of neighbors \n",
    "n=((p+2)*(p+1))+7;\n",
    "\n",
    "# Number of terms in the augmented polynomial\n",
    "P=int((p+2)*(p+1)/2);\n",
    "\n",
    "\n"
   ]
  },
  {
   "cell_type": "markdown",
   "metadata": {},
   "source": [
    "## Let's separate nodes on the boundary and interior nodes - This is optional"
   ]
  },
  {
   "cell_type": "code",
   "execution_count": 5,
   "metadata": {},
   "outputs": [],
   "source": [
    "\n",
    "# All the boundary nodes\n",
    "delta_om=np.where((y==d)  | (y==c) | (x==a) | (x==b))[0];\n",
    "\n",
    "# let's count the number of nodes on the boundary\n",
    "NBC=delta_om.shape[0]\n",
    "\n",
    "# Nodes on the top horizontal boundary\n",
    "delta_om_top=np.where((y==d) & (x!=a) & (x!=b))[0];\n",
    "\n",
    "# let's count the number of nodes on the top horizontal boundary\n",
    "Ntop=delta_om_top.shape[0];\n",
    "\n",
    "# Nodes on the bottom horizontal boundary\n",
    "delta_om_bot=np.where((y==c) & (x!=a) & (x!=b))[0];\n",
    "\n",
    "# let's count the number of nodes on the bottom horizontal boundary\n",
    "Nbot=delta_om_bot.shape[0];\n",
    "\n",
    "# Nodes on the left vertical boundary\n",
    "delta_om_left=np.where((x==a))[0];\n",
    "\n",
    "# let's count the number of nodes on the left vertical boundary\n",
    "Nleft=delta_om_left.shape[0];\n",
    "\n",
    "# Nodes on the right vertical boundary\n",
    "delta_om_right=np.where((x==b))[0];\n",
    "\n",
    "# let's count the number of nodes on the right vertical boundary\n",
    "Nright=delta_om_right.shape[0]\n",
    "\n",
    "# Total number of nodes\n",
    "N=x.shape[0];\n",
    "\n",
    "# All indexes of the points\n",
    "index=np.linspace(0,N-1,N,dtype=int);\n",
    "\n",
    "# All interior nodes\n",
    "\n",
    "index_om=np.setdiff1d(index,delta_om)\n",
    "\n",
    "# Let's count the number of interior nodes\n",
    "\n",
    "Nin=index_om.shape[0];\n",
    "\n",
    "\n"
   ]
  },
  {
   "cell_type": "markdown",
   "metadata": {},
   "source": [
    "## Rearranging nodes - Organizing nodes and categorizing based on the boundary\n",
    "\n",
    "The rearrangment is made like:\n",
    "1. Nodes in the interior\n",
    "2. Nodes on the left vertical boundary\n",
    "3. Nodes on the right vertical boundary\n",
    "4. Nodes on the top horizontal boundary\n",
    "5. Nodes on the bottom horizontal boundary"
   ]
  },
  {
   "cell_type": "code",
   "execution_count": 6,
   "metadata": {},
   "outputs": [],
   "source": [
    "# New rearranged x nodes\n",
    "xnew=np.concatenate((x[index_om], x[delta_om_left], x[delta_om_right], x[delta_om_top], x[delta_om_bot]),axis=None);\n",
    "# New rearranged y nodes\n",
    "ynew=np.concatenate((y[index_om], y[delta_om_left], y[delta_om_right], y[delta_om_top], y[delta_om_bot]),axis=None);\n",
    "\n",
    "del index_om, delta_om_left, delta_om_right, delta_om_top, delta_om_bot, x, y\n",
    "\n",
    "x=xnew;\n",
    "y=ynew;\n",
    "\n",
    "# Let's get the indices\n",
    "\n",
    "# All interior nodes\n",
    "index_om=np.linspace(0,Nin-1,Nin,dtype=int);\n",
    "\n",
    "# Nodes on the left vertical boundary\n",
    "delta_om_left=np.linspace(Nin,(Nin+Nleft)-1,Nleft,dtype=int);\n",
    "\n",
    "# Nodes on the right vertical boundary\n",
    "delta_om_right=np.linspace(Nin+Nleft,(Nin+Nleft+Nright)-1,Nright,dtype=int);\n",
    "\n",
    "# Nodes on the top horizontal boundary\n",
    "delta_om_top=np.linspace(Nin+Nleft+Nright,(Nin+Nleft+Nright+Ntop)-1,Ntop,dtype=int);\n",
    "\n",
    "# Nodes on the bottom horizontal boundary\n",
    "delta_om_bot=np.linspace(Nin+Nleft+Nright+Ntop,(Nin+Nleft+Nright+Ntop+Nbot)-1,Nbot,dtype=int);\n",
    "\n",
    "# If you want to look at the reordered domain, uncomment what's below\n",
    "\n",
    "#plt.rcParams[\"figure.figsize\"] = (20,20)\n",
    "#plt.plot(xnew[index_om],ynew[index_om],'.')\n",
    "#plt.plot(xnew[delta_om_left],ynew[delta_om_left],'b.')\n",
    "#plt.plot(xnew[delta_om_right],ynew[delta_om_right],'r.')\n",
    "#plt.plot(xnew[delta_om_top],ynew[delta_om_top],'y.')\n",
    "#plt.plot(xnew[delta_om_bot],ynew[delta_om_bot],'k.')\n",
    "#plt.show()"
   ]
  },
  {
   "cell_type": "markdown",
   "metadata": {},
   "source": [
    "## Create augmented polynomial exponents"
   ]
  },
  {
   "cell_type": "code",
   "execution_count": 7,
   "metadata": {},
   "outputs": [],
   "source": [
    "# Create the polynomial exponents\n",
    "\n",
    "import numpy.matlib\n",
    "\n",
    "x_exp=np.array([]);\n",
    "y_exp=np.array([]);\n",
    "for i_exp in range(0, p+1):\n",
    "    x_exp=np.append(x_exp, np.arange(i_exp+1))\n",
    "    y_exp=np.append(y_exp, i_exp-np.arange(i_exp+1))\n",
    "\n",
    "\n",
    "x_exp=np.transpose(x_exp.astype(int)); # Exponents of 'x' of the bivariate polynomial\n",
    "y_exp=np.transpose(y_exp.astype(int)); # Exponents of 'y' of the bivariate polynomial\n",
    "x_exp=x_exp.reshape(1,-1);\n",
    "y_exp=y_exp.reshape(1,-1);\n",
    "\n",
    "# Create a repititive matrix our those exponets - will be needing later\n",
    "ax_exp=np.matlib.repmat(x_exp,n,1);\n",
    "ay_exp=np.matlib.repmat(y_exp,n,1);\n",
    "\n",
    "# Derivatives of the exponents\n",
    "\n",
    "x_exp_Dx=x_exp-1;\n",
    "x_exp_Dx[x_exp_Dx <0]=0;\n",
    "x_exp_Dxx=x_exp-2;\n",
    "x_exp_Dxx[x_exp_Dxx <0]=0;\n",
    "\n",
    "y_exp_Dy=y_exp-1;\n",
    "y_exp_Dy[y_exp_Dy <0]=0;\n",
    "y_exp_Dyy=y_exp-2;\n",
    "y_exp_Dyy[y_exp_Dyy <0]=0;\n",
    "\n",
    "\n",
    "# Find the nearest neighbors\n",
    "\n",
    "dsites=np.column_stack((x,y));\n",
    "# dist is the distances to the nearest neighbors\n",
    "# idx is the indices of the nearest neighbors\n",
    "\n",
    "from sklearn.neighbors import NearestNeighbors\n",
    "\n",
    "nbrs = NearestNeighbors(n_neighbors=n, algorithm='kd_tree').fit(dsites);\n",
    "dist, idx = nbrs.kneighbors(dsites);\n",
    "\n",
    " "
   ]
  },
  {
   "cell_type": "markdown",
   "metadata": {},
   "source": [
    "## Setup the differentiation matrices"
   ]
  },
  {
   "cell_type": "code",
   "execution_count": 8,
   "metadata": {},
   "outputs": [],
   "source": [
    "\n",
    "from numpy.linalg import inv\n",
    "\n",
    "Dx=np.zeros((N,N)); # Differentiation matrix to store weights for 'x' derivative\n",
    "Dy=np.zeros((N,N)); # Differentiation matrix to store weights for 'y' derivative\n",
    "Dlap=np.zeros((N,N)); # Differentiation matrix to store weights for laplacian\n",
    "\n",
    "for index in range(0,N):\n",
    "    # Scaling factor - recenter all nodes to the origin and scale\n",
    "    sc=dist[index,n-1];\n",
    "   \n",
    "    xn=(dsites[idx[index,:],0]-dsites[idx[index,0],0])/sc;\n",
    "    yn=(dsites[idx[index,:],1]-dsites[idx[index,0],1])/sc;\n",
    "    \n",
    "    # Create a meshgrid out of local neighbors\n",
    "    X1, X2=np.meshgrid(xn,xn);\n",
    "    Y1, Y2=np.meshgrid(yn,yn);\n",
    "    \n",
    "    xn_temp=np.matlib.repmat(xn,P,1).T;\n",
    "    yn_temp=np.matlib.repmat(yn,P,1).T;\n",
    "   \n",
    "    # Evaluate the radial basis function at the neighbor nodes - mini local collocation matrix\n",
    "    A11=phi(X1,X2,Y1,Y2,m);\n",
    "    \n",
    "    # Augmented polynomial evaluated at neighbors\n",
    "    A12=(xn_temp**ax_exp)*(yn_temp**ay_exp);\n",
    "   \n",
    "    # Radial basis function of the 'x' derivative evaluated\n",
    "    Bx11=phi_x(X1[0],X2[0],Y1[0],Y2[0],m);\n",
    "    Bx11=Bx11.reshape(1,-1);\n",
    "    \n",
    "    # 'x' derivative to the augmented polynomial evaluated\n",
    "    Bx12=x_exp*(xn_temp[0]**x_exp_Dx)*(yn_temp[0]**y_exp);\n",
    "    \n",
    "    # Radial basis function of the 'y' derivative evaluated\n",
    "    By11=phi_y(X1[0],X2[0],Y1[0],Y2[0],m);\n",
    "    By11=By11.reshape(1,-1);\n",
    "    \n",
    "    # 'y' derivative to the augmented polynomial evaluated\n",
    "    By12=y_exp*(xn_temp[0]**x_exp)*(yn_temp[0]**y_exp_Dy);\n",
    "    \n",
    "    # Laplacian of the radial basis function evaluated\n",
    "    Blap11=phi_lap(X1[0],X2[0],Y1[0],Y2[0],m);\n",
    "    Blap11=Blap11.reshape(1,-1);\n",
    "    \n",
    "    # Laplacian of teh augmented polynomial evalauted\n",
    "    Blap12=x_exp*x_exp_Dx*(xn_temp[0]**x_exp_Dxx)*(yn_temp[0]**y_exp)+y_exp*y_exp_Dy*(xn_temp[0]**x_exp)*(yn_temp[0]**y_exp_Dyy);\n",
    "\n",
    "    # Local Collocation Matrix\n",
    "    A=np.concatenate((np.hstack((A11,A12)),np.hstack((np.transpose(A12),np.zeros((P,P))))));\n",
    "    \n",
    "    \n",
    "    # Stack the evaluaed 'x','y' derivative and laplacian of the RBF's and augmented polynomial part\n",
    "    Bx=np.hstack((Bx11,Bx12));\n",
    "    By=np.hstack((By11,By12));\n",
    "    Blap=np.hstack((Blap11,Blap12));\n",
    "    \n",
    "    \n",
    "    # Find the local weights\n",
    "    Dx_local=np.matmul(Bx,inv(A));\n",
    "    Dy_local=np.matmul(By,inv(A));\n",
    "    Dlap_local=np.matmul(Blap,inv(A));\n",
    "    \n",
    "    # Assign local weights to the differentiation matrix\n",
    "    \n",
    "    Dx[index,idx[index,0:n]]=Dx_local[0,0:n]/sc;\n",
    "    Dy[index,idx[index,0:n]]=Dy_local[0,0:n]/sc;\n",
    "    Dlap[index,idx[index,0:n]]=Dlap_local[0,0:n]/(sc**2);\n",
    "    \n",
    "\n",
    "    \n",
    "   \n",
    "   "
   ]
  },
  {
   "cell_type": "markdown",
   "metadata": {},
   "source": [
    "## Let's check the error"
   ]
  },
  {
   "cell_type": "code",
   "execution_count": 9,
   "metadata": {},
   "outputs": [],
   "source": [
    "def f(x,y):\n",
    "    return np.multiply(x,y)+np.power(x,3)+np.power(y,3);\n",
    "\n",
    "def fx(x,y):\n",
    "    return y+3*np.power(x,2);\n",
    "\n",
    "def fy(x,y):\n",
    "    return x+3*np.power(y,2);\n",
    "\n",
    "def flap(x,y):\n",
    "    return 6*x+6*y;\n",
    "\n",
    "fhatx=np.matmul(Dx,f(x,y));\n",
    "fhaty=np.matmul(Dy,f(x,y));\n",
    "fhatlap=np.matmul(Dlap,f(x,y));"
   ]
  },
  {
   "cell_type": "markdown",
   "metadata": {},
   "source": [
    "## Error Analysis"
   ]
  },
  {
   "cell_type": "code",
   "execution_count": 10,
   "metadata": {},
   "outputs": [
    {
     "name": "stdout",
     "output_type": "stream",
     "text": [
      "9.907790143870443e-10\n"
     ]
    }
   ],
   "source": [
    "Ex=max(abs(fhatx-fx(x,y)))\n",
    "Ey=max(abs(fhaty-fy(x,y)))\n",
    "Elap=max(abs(fhatlap-flap(x,y)))\n",
    "print(Ex)\n",
    "#fhatx.shape"
   ]
  },
  {
   "cell_type": "markdown",
   "metadata": {},
   "source": [
    "## Plots"
   ]
  },
  {
   "cell_type": "code",
   "execution_count": 11,
   "metadata": {},
   "outputs": [
    {
     "data": {
      "text/plain": [
       "<mpl_toolkits.mplot3d.art3d.Path3DCollection at 0x1653b5313c8>"
      ]
     },
     "execution_count": 11,
     "metadata": {},
     "output_type": "execute_result"
    }
   ],
   "source": [
    "from mpl_toolkits import mplot3d\n",
    "import matplotlib.pyplot as plt\n",
    "\n",
    "ax = plt.axes(projection='3d')\n",
    "ax.scatter(x, y, fhatlap, c=fhatx, cmap='viridis', linewidth=0.5)\n",
    "\n"
   ]
  },
  {
   "cell_type": "code",
   "execution_count": 12,
   "metadata": {},
   "outputs": [
    {
     "data": {
      "text/plain": [
       "<mpl_toolkits.mplot3d.art3d.Path3DCollection at 0x1653b48c6c8>"
      ]
     },
     "execution_count": 12,
     "metadata": {},
     "output_type": "execute_result"
    },
    {
     "data": {
      "image/png": "[encoded data removed]",
      "text/plain": [
       "<Figure size 432x288 with 1 Axes>"
      ]
     },
     "metadata": {
      "needs_background": "light"
     },
     "output_type": "display_data"
    }
   ],
   "source": [
    "axx = plt.axes(projection='3d')\n",
    "axx.scatter(x, y, flap(x,y), c=fx(x,y), cmap='viridis', linewidth=0.5)\n"
   ]
  },
  {
   "cell_type": "code",
   "execution_count": null,
   "metadata": {},
   "outputs": [],
   "source": []
  }
 ],
 "metadata": {
  "kernelspec": {
   "display_name": "Python 3",
   "language": "python",
   "name": "python3"
  },
  "language_info": {
   "codemirror_mode": {
    "name": "ipython",
    "version": 3
   },
   "file_extension": ".py",
   "mimetype": "text/x-python",
   "name": "python",
   "nbconvert_exporter": "python",
   "pygments_lexer": "ipython3",
   "version": "3.7.4"
  }
 },
 "nbformat": 4,
 "nbformat_minor": 2
}
