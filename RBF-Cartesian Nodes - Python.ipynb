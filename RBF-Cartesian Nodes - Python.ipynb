{
 "cells": [
  {
   "cell_type": "markdown",
   "metadata": {},
   "source": [
    "# Cartesian Node Distribution for RBF Methods"
   ]
  },
  {
   "cell_type": "code",
   "execution_count": null,
   "metadata": {},
   "outputs": [],
   "source": [
    "# Domain is [-2,2] X [-2,2] = [a,b] X [c,d]\n",
    "\n",
    "a=-2;\n",
    "b=2;\n",
    "c=-2;\n",
    "d=2;\n",
    "\n",
    "Nx=100; # Number of nodes on the x axis \n",
    "Ny=100; # Number of nodes on the y axis \n",
    "\n",
    "import numpy as np\n",
    "\n",
    "# Line space\n",
    "x1=np.linspace(a,b,Nx);\n",
    "y1=np.linspace(c,d,Ny);\n",
    "\n",
    "#x1.shape :- to get the size of the vector\n",
    "\n",
    "xd, yd = np.meshgrid(x1, y1);\n",
    "\n",
    "x=xd.flatten('F');\n",
    "y=yd.flatten('F');\n",
    "\n",
    "import matplotlib.pyplot as plt\n",
    "plt.rcParams[\"figure.figsize\"] = (20,20)\n",
    "plt.plot(x,y,'.')\n",
    "plt.show()\n"
   ]
  },
  {
   "cell_type": "markdown",
   "metadata": {},
   "source": [
    "## Let's separate nodes on the boundary and interior nodes"
   ]
  },
  {
   "cell_type": "code",
   "execution_count": null,
   "metadata": {},
   "outputs": [],
   "source": [
    "# All the boundary nodes\n",
    "delta_om=np.where((y==d)  | (y==c) | (x==a) | (x==b))[0];\n",
    "\n",
    "# let's count the number of nodes on the boundary\n",
    "NBC=delta_om.shape[0]\n",
    "\n",
    "# Nodes on the top horizontal boundary\n",
    "delta_om_top=np.where((y==d) & (x!=a) & (x!=b))[0];\n",
    "\n",
    "# let's count the number of nodes on the top horizontal boundary\n",
    "Ntop=delta_om_top.shape[0];\n",
    "\n",
    "# Nodes on the bottom horizontal boundary\n",
    "delta_om_bot=np.where((y==c) & (x!=a) & (x!=b))[0];\n",
    "\n",
    "# let's count the number of nodes on the bottom horizontal boundary\n",
    "Nbot=delta_om_bot.shape[0];\n",
    "\n",
    "# Nodes on the left vertical boundary\n",
    "delta_om_left=np.where((x==a))[0];\n",
    "\n",
    "# let's count the number of nodes on the left vertical boundary\n",
    "Nleft=delta_om_left.shape[0];\n",
    "\n",
    "# Nodes on the right vertical boundary\n",
    "delta_om_right=np.where((x==b))[0];\n",
    "\n",
    "# let's count the number of nodes on the right vertical boundary\n",
    "Nright=delta_om_right.shape[0]\n",
    "\n",
    "# Total number of nodes\n",
    "N=x.shape[0];\n",
    "\n",
    "# All indexes of the points\n",
    "index=np.linspace(0,N-1,N,dtype=int);\n",
    "\n",
    "# All interior nodes\n",
    "\n",
    "index_om=np.setdiff1d(index,delta_om)\n",
    "\n",
    "# Let's count the number of interior nodes\n",
    "\n",
    "Nin=index_om.shape[0];\n",
    "\n"
   ]
  },
  {
   "cell_type": "markdown",
   "metadata": {},
   "source": [
    "## Rearranging nodes - Organizing nodes and categorizing based on the boundary\n",
    "\n",
    "The rearrangment is made like:\n",
    "1. Nodes in the interior\n",
    "2. Nodes on the left vertical boundary\n",
    "3. Nodes on the right vertical boundary\n",
    "4. Nodes on the top horizontal boundary\n",
    "5. Nodes on the bottom horizontal boundary"
   ]
  },
  {
   "cell_type": "code",
   "execution_count": null,
   "metadata": {},
   "outputs": [],
   "source": [
    "# New rearranged x nodes\n",
    "xnew=np.concatenate((x[index_om], x[delta_om_left], x[delta_om_right], x[delta_om_top], x[delta_om_bot]),axis=None);\n",
    "# New rearranged y nodes\n",
    "ynew=np.concatenate((y[index_om], y[delta_om_left], y[delta_om_right], y[delta_om_top], y[delta_om_bot]),axis=None);\n",
    "\n",
    "del index_om, delta_om_left, delta_om_right, delta_om_top, delta_om_bot\n",
    "\n",
    "# Let's get the indices\n",
    "\n",
    "# All interior nodes\n",
    "index_om=np.linspace(0,Nin-1,Nin,dtype=int);\n",
    "\n",
    "# Nodes on the left vertical boundary\n",
    "delta_om_left=np.linspace(Nin,(Nin+Nleft)-1,Nleft,dtype=int);\n",
    "\n",
    "# Nodes on the right vertical boundary\n",
    "delta_om_right=np.linspace(Nin+Nleft,(Nin+Nleft+Nright)-1,Nright,dtype=int);\n",
    "\n",
    "# Nodes on the top horizontal boundary\n",
    "delta_om_top=np.linspace(Nin+Nleft+Nright,(Nin+Nleft+Nright+Ntop)-1,Ntop,dtype=int);\n",
    "\n",
    "# Nodes on the bottom horizontal boundary\n",
    "delta_om_bot=np.linspace(Nin+Nleft+Nright+Ntop,(Nin+Nleft+Nright+Ntop+Nbot)-1,Nbot,dtype=int);\n",
    "\n",
    "plt.rcParams[\"figure.figsize\"] = (20,20)\n",
    "plt.plot(xnew[index_om],ynew[index_om],'.')\n",
    "plt.plot(xnew[delta_om_left],ynew[delta_om_left],'b.')\n",
    "plt.plot(xnew[delta_om_right],ynew[delta_om_right],'r.')\n",
    "plt.plot(xnew[delta_om_top],ynew[delta_om_top],'y.')\n",
    "plt.plot(xnew[delta_om_bot],ynew[delta_om_bot],'k.')\n",
    "plt.show()\n"
   ]
  }
 ],
 "metadata": {
  "kernelspec": {
   "display_name": "Python 3",
   "language": "python",
   "name": "python3"
  },
  "language_info": {
   "codemirror_mode": {
    "name": "ipython",
    "version": 3
   },
   "file_extension": ".py",
   "mimetype": "text/x-python",
   "name": "python",
   "nbconvert_exporter": "python",
   "pygments_lexer": "ipython3",
   "version": "3.7.4"
  }
 },
 "nbformat": 4,
 "nbformat_minor": 2
}
