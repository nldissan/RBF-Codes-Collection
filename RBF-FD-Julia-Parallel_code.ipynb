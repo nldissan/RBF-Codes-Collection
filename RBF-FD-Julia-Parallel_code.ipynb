{
 "cells": [
  {
   "cell_type": "markdown",
   "metadata": {},
   "source": [
    "# RBF-FD Parallel "
   ]
  },
  {
   "cell_type": "markdown",
   "metadata": {},
   "source": [
    "# A function to create a cartesian node distribution\n",
    "\n"
   ]
  },
  {
   "cell_type": "code",
   "execution_count": null,
   "metadata": {},
   "outputs": [],
   "source": [
    "import Base.Threads.@spawn\n",
    "\n",
    "Threads.nthreads()"
   ]
  },
  {
   "cell_type": "code",
   "execution_count": null,
   "metadata": {},
   "outputs": [],
   "source": [
    "Threads.threadid()"
   ]
  },
  {
   "cell_type": "code",
   "execution_count": null,
   "metadata": {
    "scrolled": true
   },
   "outputs": [],
   "source": [
    "\n",
    "using LinearAlgebra\n",
    "\n",
    "# Inputs:\n",
    "#1. bounding_box = 1 X 4 vectors that contains the information about the square domain [Left Right Top Bottom]\n",
    "#2. Nx = Numbers of nodes along the 'x'- axis\n",
    "#3. Ny = Numbers of nodes along the 'y'- axis\n",
    "\n",
    "function node_distribution(bounding_box,Nx,Ny)\n",
    "    \n",
    "a=bounding_box[1];\n",
    "b=bounding_box[2];\n",
    "c=bounding_box[3];\n",
    "d=bounding_box[4];\n",
    "\n",
    "\n",
    "delta_x=(b-a)/(Nx-1); # Mesh size\n",
    "delta_y=(d-c)/(Ny-1);\n",
    "\n",
    "# Line space\n",
    "x1=a:delta_x:b; \n",
    "y1=c:delta_y:d;\n",
    "\n",
    "\n",
    "xd=repeat(transpose(x1),Nx,1);\n",
    "yd=repeat(y1,1,Ny);\n",
    "\n",
    "x=xd[:];\n",
    "y=yd[:];\n",
    "    \n",
    "    return x, y\n",
    "end\n"
   ]
  },
  {
   "cell_type": "markdown",
   "metadata": {},
   "source": [
    "# Domain infromation and the node distribution"
   ]
  },
  {
   "cell_type": "code",
   "execution_count": null,
   "metadata": {},
   "outputs": [],
   "source": [
    "# Domain is [0,1] X [0,1] = [a,b] X [c,d]\n",
    "\n",
    "a=0;\n",
    "b=1;\n",
    "c=0;\n",
    "d=1;\n",
    "\n",
    "bounding_box=[a b c d];\n",
    "\n",
    "Nx=100; # Number of nodes on the x axis \n",
    "Ny=100; # Number of nodes on the y axis \n",
    "\n",
    "x,y =node_distribution(bounding_box,Nx,Ny);\n",
    "\n",
    "\n",
    "# If you want to plot the node-distribution uncomment lines below\n",
    "#using Plots\n",
    "#scatter(x,y,markersize = 0.5,title=\"RBF-Node Distribution\", label =\"Nodes\",xlabel=\"x-axis\",ylabel=\"y-axis\")"
   ]
  },
  {
   "cell_type": "markdown",
   "metadata": {
    "scrolled": true
   },
   "source": [
    "## Let's separate nodes on the boundary and interior nodes"
   ]
  },
  {
   "cell_type": "code",
   "execution_count": null,
   "metadata": {},
   "outputs": [],
   "source": [
    "# All nodes on the vertical boundary\n",
    "delta_om1=findall(k->(k==a ) |(k==b),x);\n",
    "\n",
    "# All nodes on the horizontal boundary\n",
    "delta_om2=findall(k->(k==c ) |(k==d),y);\n",
    "\n",
    "# All the boundary nodes\n",
    "delta_om=unique([delta_om1;delta_om2]);\n",
    "\n",
    "# let's count the number of nodes on the boundary\n",
    "NBC=size(delta_om)[1];\n",
    "\n",
    "# Nodes on the left vertical boundary\n",
    "delta_om_left=findall(k-> (k==a),x);\n",
    "\n",
    "# let's count the number of nodes on the left vertical boundary\n",
    "Nleft=size(delta_om_left)[1];\n",
    "\n",
    "\n",
    "# Nodes on the right vertical boundary\n",
    "delta_om_right=findall(k-> (k==b),x);\n",
    "\n",
    "# let's count the number of nodes on the right vertical boundary\n",
    "Nright=size(delta_om_right)[1];\n",
    "\n",
    "# Nodes on the top horizontal boundary\n",
    "delta_om_top=findall(k-> (k==d),y);\n",
    "\n",
    "delta_om_top=setdiff(delta_om_top,delta_om_left);\n",
    "delta_om_top=setdiff(delta_om_top,delta_om_right);\n",
    "\n",
    "# let's count the number of nodes on the top horizontal boundary\n",
    "Ntop=size(delta_om_top)[1];\n",
    "\n",
    "\n",
    "# Nodes on the bottom horizontal boundary\n",
    "delta_om_bot=findall(k-> (k==c),y);\n",
    "\n",
    "delta_om_bot=setdiff(delta_om_bot,delta_om_left);\n",
    "delta_om_bot=setdiff(delta_om_bot,delta_om_right);\n",
    "\n",
    "# let's count the number of nodes on the top horizontal boundary\n",
    "Nbot=size(delta_om_bot)[1];\n",
    "\n",
    "# Total number of nodes\n",
    "N=size(x)[1];\n",
    "\n",
    "# All indexes of the points\n",
    "index=1:N;\n",
    "\n",
    "# All interior nodes\n",
    "\n",
    "index_om=setdiff(index,delta_om);\n",
    "\n",
    "# Let's count the number of interior nodes\n",
    "\n",
    "Nin=size(index_om)[1];\n",
    "\n",
    "\n"
   ]
  },
  {
   "cell_type": "markdown",
   "metadata": {},
   "source": [
    "## Rearranging nodes - Organizing nodes and categorizing based on the boundary\n",
    "\n",
    "The rearrangment is made like:\n",
    "1. Nodes in the interior\n",
    "2. Nodes on the left vertical boundary\n",
    "3. Nodes on the right vertical boundary\n",
    "4. Nodes on the top horizontal boundary\n",
    "5. Nodes on the bottom horizontal boundary"
   ]
  },
  {
   "cell_type": "code",
   "execution_count": null,
   "metadata": {},
   "outputs": [],
   "source": [
    "# New rearranged x nodes\n",
    "\n",
    "xnew=vcat(x[index_om],x[delta_om_left],x[delta_om_right],x[delta_om_top],x[delta_om_bot]);\n",
    "\n",
    "# New rearranged y nodes\n",
    "\n",
    "ynew=vcat(y[index_om],y[delta_om_left],y[delta_om_right],y[delta_om_top],y[delta_om_bot]);\n",
    "\n",
    "# Let's get the indices\n",
    "\n",
    "# All interior nodes\n",
    "index_om=1:Nin;\n",
    "\n",
    "# Nodes on the left vertical boundary\n",
    "delta_om_left=Nin+1:Nin+Nleft;\n",
    "\n",
    "# Nodes on the right vertical boundary\n",
    "delta_om_right=Nin+Nleft+1:Nin+Nleft+Nright;\n",
    "\n",
    "# Nodes on the top horizontal boundary\n",
    "delta_om_top=Nin+Nleft+Nright+1:Nin+Nleft+Nright+Ntop;\n",
    "\n",
    "# Nodes on the bottom horizontal boundary\n",
    "delta_om_bot=Nin+Nleft+Nright+Ntop+1:N;\n",
    "\n",
    "x=xnew;\n",
    "y=ynew;\n",
    "\n",
    "#scatter(xnew[index_om],ynew[index_om],markersize = 0.5,title=\"RBF-Node Distribution\", label =\"inside\",xlabel=\"x-axis\",ylabel=\"y-axis\")\n",
    "#scatter!(xnew[delta_om_left],ynew[delta_om_left],markersize =0.5,title=\"RBF-Node Distribution\", label =\"left\")\n",
    "#scatter!(xnew[delta_om_right],ynew[delta_om_right],markersize = 0.5,title=\"RBF-Node Distribution\", label =\"right\")\n",
    "#scatter!(xnew[delta_om_top],ynew[delta_om_top],markersize = 0.5,title=\"RBF-Node Distribution\", label =\"top\")\n",
    "#scatter!(xnew[delta_om_bot],ynew[delta_om_bot],markersize = 0.5,title=\"RBF-Node Distribution\", label =\"bot\")"
   ]
  },
  {
   "cell_type": "markdown",
   "metadata": {},
   "source": [
    "## RBF-FD Parameters"
   ]
  },
  {
   "cell_type": "code",
   "execution_count": null,
   "metadata": {},
   "outputs": [],
   "source": [
    "# Augmented polynomial degree\n",
    "p=4; \n",
    "\n",
    "# RBF Order\n",
    "m=7;\n",
    "\n",
    "# Number of neighbors \n",
    "n=((p+2)*(p+1))+7;"
   ]
  },
  {
   "cell_type": "code",
   "execution_count": null,
   "metadata": {},
   "outputs": [],
   "source": [
    "# Define Radial Basis Functions - We use polyharmonic splines\n",
    "    \n",
    "function phi(X1,X2,Y1,Y2,alpha)\n",
    "    return sqrt.((X1-X2).^2+(Y1-Y2).^2).^alpha\n",
    "end\n",
    "    \n",
    "# Laplacian of phi\n",
    "function phi_lap(X1,X2,Y1,Y2,alpha)\n",
    "    return alpha^2 .* sqrt.((X1-X2).^2+(Y1-Y2).^2).^(alpha-2)\n",
    "end\n"
   ]
  },
  {
   "cell_type": "markdown",
   "metadata": {},
   "source": [
    "## The next function will compute the differentiation weights for the Laplacian in parallel"
   ]
  },
  {
   "cell_type": "code",
   "execution_count": null,
   "metadata": {},
   "outputs": [],
   "source": [
    "function weights_lap(xn,yn,m,P,n,ax_exp,ay_exp,x_exp,y_exp,x_exp_Dx,y_exp_Dy,x_exp_Dxx,y_exp_Dyy)\n",
    "    \n",
    "#xn=transpose(xn);\n",
    "#yn=transpose(yn);\n",
    "\n",
    "  \n",
    "xn_temp=repeat(xn,1,P);\n",
    "yn_temp=repeat(yn,1,P);\n",
    "    \n",
    "X1=repeat(transpose(xn),n,1);\n",
    "X2=repeat(xn,1,n);\n",
    "    \n",
    "Y1=repeat(transpose(yn),n,1);\n",
    "Y2=repeat(yn,1,n);\n",
    "    \n",
    "A11=phi(X1,X2,Y1,Y2,m);\n",
    "   \n",
    "A12=(xn_temp.^ax_exp).*(yn_temp.^ay_exp);\n",
    "    \n",
    "Blap11=phi_lap(X1,X2,Y1,Y2,m)[1,:];\n",
    "   \n",
    "Blap12=x_exp.*x_exp_Dx.*(transpose(xn_temp[1,:]).^x_exp_Dxx).*(transpose(yn_temp[1,:]).^y_exp)+y_exp.*y_exp_Dy.*(transpose(xn_temp[1,:]).^x_exp).*(transpose(yn_temp[1,:]).^y_exp_Dyy);\n",
    "\n",
    " \n",
    "# Local collocation matrix\n",
    "A=[[A11 A12];[transpose(A12) zeros(P,P)]];\n",
    "    \n",
    "Blap=[Blap11' Blap12];\n",
    "   \n",
    "Dlap_local=Blap/A;#*inv(A) ;\n",
    "\n",
    "    \n",
    "    return Dlap_local[1:n]\n",
    "end\n",
    "\n",
    "        "
   ]
  },
  {
   "cell_type": "markdown",
   "metadata": {},
   "source": [
    "## Setup the differentiation matrices"
   ]
  },
  {
   "cell_type": "code",
   "execution_count": null,
   "metadata": {},
   "outputs": [],
   "source": [
    "using NearestNeighbors\n",
    "using SparseArrays\n",
    "\n",
    "function Main_weights(x,y,p,m,n)\n",
    "    \n",
    "dsites=[x y]; # 2D nodes\n",
    "    \n",
    "# Number of terms in the augmented polynomial\n",
    "P=(p+2)*(p+1)/2;\n",
    "P=convert(Int64, round(P, digits=0));\n",
    "\n",
    "# Total number of nodes\n",
    "N=size(x)[1];\n",
    "\n",
    "# Find the nearest neighbors\n",
    "\n",
    "kdtree = KDTree(transpose(dsites));\n",
    "idx, dist = knn(kdtree, transpose(dsites), n, true);\n",
    "    \n",
    "dist=transpose(hcat(dist...)); \n",
    "idx=transpose(hcat(idx...)); \n",
    "    \n",
    "# Create the polynomial exponents\n",
    "\n",
    "x_exp=[];\n",
    "y_exp=[];\n",
    "\n",
    "for i=0:p\n",
    "    x_exp=append!(x_exp, 0:1:i);\n",
    "    y_exp=append!(y_exp, i.-(0:1:i));\n",
    "end\n",
    "\n",
    "x_exp=transpose(x_exp);\n",
    "y_exp=transpose(y_exp);\n",
    "# Derivatives of the exponents\n",
    "\n",
    "x_exp_Dx=x_exp .-1;\n",
    "x_exp_Dx[x_exp_Dx .<0].=0;\n",
    "x_exp_Dxx=x_exp .-2;\n",
    "x_exp_Dxx[x_exp_Dxx .<0].=0;\n",
    "\n",
    "ax_exp=repeat(x_exp,n,1);\n",
    "ay_exp=repeat(y_exp,n,1);\n",
    "\n",
    "y_exp_Dy=y_exp .-1;\n",
    "y_exp_Dy[y_exp_Dy .<0].=0;\n",
    "y_exp_Dyy=y_exp .-2;\n",
    "y_exp_Dyy[y_exp_Dyy .<0].=0; \n",
    "\n",
    "# Initialize the differentiation matrices\n",
    "\n",
    "Z=repeat(dist[:,n],1,n);\n",
    "Xn=(x[idx]-repeat(x[idx[:,1]],1,n))./Z; # Rescale all nodes to the center\n",
    "Yn=(y[idx]-repeat(y[idx[:,1]],1,n))./Z; # Rescale all nodes to the center \n",
    "\n",
    "Dtemp=zeros(n,N); # Matrix to save Laplacian weights\n",
    "I=transpose(repeat(1:1:N,1,n)); # All the indexes 1:N\n",
    "I=I[:];\n",
    "    \n",
    "J=transpose(idx); #All the neigbours\n",
    "J=J[:]; \n",
    "    \n",
    "Threads.@threads for index in 1:N\n",
    "        Dtemp[:,index]=weights_lap(Xn[index,:],Yn[index,:],m,P,n,ax_exp,ay_exp,x_exp,y_exp,x_exp_Dx,y_exp_Dy,x_exp_Dxx,y_exp_Dyy);\n",
    "        \n",
    "    end\n",
    "    \n",
    "Dtemp=Dtemp./transpose(Z.^2); \n",
    "    \n",
    "Dlap=sparse(I,J,Dtemp[:]);  \n",
    "    \n",
    "return Dlap \n",
    "    end    \n",
    "    \n",
    "    \n",
    "    "
   ]
  },
  {
   "cell_type": "code",
   "execution_count": null,
   "metadata": {},
   "outputs": [],
   "source": [
    "@time Dlap=Main_weights(x,y,p,m,n);\n"
   ]
  },
  {
   "cell_type": "code",
   "execution_count": null,
   "metadata": {},
   "outputs": [],
   "source": [
    "function f(x,y)\n",
    "    return x.*y+x.^3+y.^3 \n",
    "end\n",
    "\n",
    "function fx(x,y)\n",
    "    return y+3*x.^2\n",
    "end\n",
    "\n",
    "function fy(x,y)\n",
    "    return x+3*y.^2\n",
    "end\n",
    "\n",
    "function flap(x,y)\n",
    "    return 6*x+6*y\n",
    "end\n",
    "\n"
   ]
  },
  {
   "cell_type": "code",
   "execution_count": null,
   "metadata": {},
   "outputs": [],
   "source": [
    "fhat=Dlap*f(x,y);\n",
    "using Plots\n",
    "plot(x,y,fhat,st=:surface)"
   ]
  },
  {
   "cell_type": "code",
   "execution_count": null,
   "metadata": {},
   "outputs": [],
   "source": [
    "plot(x,y,flap(x,y),st=:surface)"
   ]
  },
  {
   "cell_type": "code",
   "execution_count": null,
   "metadata": {},
   "outputs": [],
   "source": [
    "print(maximum(abs.(fhat-flap(x,y))))"
   ]
  },
  {
   "cell_type": "code",
   "execution_count": null,
   "metadata": {},
   "outputs": [],
   "source": []
  }
 ],
 "metadata": {
  "kernelspec": {
   "display_name": "Julia 1.3.1",
   "language": "julia",
   "name": "julia-1.3"
  },
  "language_info": {
   "file_extension": ".jl",
   "mimetype": "application/julia",
   "name": "julia",
   "version": "1.3.1"
  }
 },
 "nbformat": 4,
 "nbformat_minor": 2
}
