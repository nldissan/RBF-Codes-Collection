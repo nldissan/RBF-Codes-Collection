{
 "cells": [
  {
   "cell_type": "markdown",
   "metadata": {},
   "source": [
    "# Interpolation using the RBF method"
   ]
  },
  {
   "cell_type": "code",
   "execution_count": null,
   "metadata": {
    "scrolled": true
   },
   "outputs": [],
   "source": [
    "# Domain is [-2,2] X [-2,2] = [a,b] X [c,d]\n",
    "\n",
    "a=-2;\n",
    "b=2;\n",
    "c=-2;\n",
    "d=2;\n",
    "\n",
    "Nx=100; # Number of nodes on the x axis \n",
    "Ny=100; # Number of nodes on the y axis \n",
    "\n",
    "delta_x=(b-a)/(Nx-1); # Mesh size\n",
    "delta_y=(d-c)/(Ny-1);\n",
    "\n",
    "# Line space\n",
    "x1=a:delta_x:b; \n",
    "y1=c:delta_y:d;\n",
    "\n",
    "\n",
    "using LinearAlgebra\n",
    "\n",
    "xd=repeat(transpose(x1),Nx,1);\n",
    "yd=repeat(y1,1,Ny);\n",
    "\n",
    "x=xd[:];\n",
    "y=yd[:];"
   ]
  },
  {
   "cell_type": "markdown",
   "metadata": {},
   "source": [
    "## Define the radial basis functions"
   ]
  },
  {
   "cell_type": "code",
   "execution_count": null,
   "metadata": {
    "scrolled": true
   },
   "outputs": [],
   "source": [
    "function phi(X1,X2,Y1,Y2,epsil)\n",
    "    return exp.((-(epsil^2)*((X1-X2).^2+(Y1-Y2).^2)))\n",
    "end\n",
    "\n",
    "# Derivative with respective to x of phi\n",
    "function phi_x(X1,X2,Y1,Y2,epsil)\n",
    "    return 2*epsil^2*(X1-X2).*exp.(-(epsil^2)*((X1-X2).^2+(Y1-Y2).^2))\n",
    "end\n",
    "\n",
    "# Derivative with respective to y of phi\n",
    "function phi_y(X1,X2,Y1,Y2,epsil)\n",
    "    return 2*epsil^2*(Y1-Y2).*exp.(-(epsil^2)*((X1-X2).^2+(Y1-Y2).^2))\n",
    "end\n",
    "\n",
    "# Laplacian of phi\n",
    "function phi_lap(X1,X2,Y1,Y2,epsil)\n",
    "    return (-4*epsil^2*exp.(-(epsil^2)*((X1-X2).^2+(Y1-Y2).^2)))+(4*epsil^2*((X1-X2).^2+(Y1-Y2).^2).*exp.(-(epsil^2)*((X1-X2).^2+(Y1-Y2).^2)))\n",
    "end\n",
    "\n"
   ]
  },
  {
   "cell_type": "markdown",
   "metadata": {},
   "source": [
    "## Some Parameters"
   ]
  },
  {
   "cell_type": "code",
   "execution_count": null,
   "metadata": {
    "scrolled": true
   },
   "outputs": [],
   "source": [
    "N=size(x)[1];# Number of total nodes\n",
    "epsil=2; # Shape parameter - epsilon\n",
    "\n",
    "# Function that we interpolate\n",
    "function f(x,y)\n",
    "    return x.*exp.(-x.^2-y.^2)\n",
    "end"
   ]
  },
  {
   "cell_type": "markdown",
   "metadata": {},
   "source": [
    "## Evaluation Points"
   ]
  },
  {
   "cell_type": "code",
   "execution_count": null,
   "metadata": {
    "scrolled": true
   },
   "outputs": [],
   "source": [
    "N1=trunc(Int,Nx/2); # Number of nodes on the x axis \n",
    "N2=trunc(Int,Ny/2); # Number of nodes on the y axis \n",
    "\n",
    "delta_x1=(b-a)/(N1-1); # Mesh size\n",
    "delta_y1=(d-c)/(N2-1);\n",
    "\n",
    "# Line space\n",
    "x2=a:delta_x1:b; \n",
    "y2=c:delta_y1:d;\n",
    "\n",
    "\n",
    "using LinearAlgebra\n",
    "\n",
    "x3=repeat(transpose(x2),N1,1);\n",
    "y3=repeat(y2,1,N2);\n",
    "\n",
    "xhat=x3[:];\n",
    "yhat=y3[:];\n",
    "\n",
    "Ne=size(xhat)[1];# Number of total evaluation nodes"
   ]
  },
  {
   "cell_type": "code",
   "execution_count": null,
   "metadata": {
    "scrolled": true
   },
   "outputs": [],
   "source": [
    "# meshgrid for RBF centers\n",
    "XT1=repeat(transpose(x),N,1);\n",
    "XT2=repeat(x,1,N);\n",
    "\n",
    "YT1=repeat(transpose(y),N,1);\n",
    "YT2=repeat(y,1,N);\n",
    "\n",
    "# Collocation Matrix using the cartesian centers\n",
    "\n",
    "A=phi(XT1,XT2,YT1,YT2,epsil);\n",
    "\n",
    "# Second meshgrid for evaluation points\n",
    "\n",
    "XTe1=repeat(transpose(x),Ne,1);\n",
    "XTe2=repeat(xhat,1,N);\n",
    "\n",
    "YTe1=repeat(transpose(y),Ne,1);\n",
    "YTe2=repeat(yhat,1,N);\n",
    "\n",
    "# Second collocation Matrix using the random evaluation points\n",
    "\n",
    "Ahat=phi(XTe1,XTe2,YTe1,YTe2,epsil);\n",
    "# Right-hand side\n",
    "F=f(x,y);\n"
   ]
  },
  {
   "cell_type": "markdown",
   "metadata": {},
   "source": [
    "## Find the interpolation coefficients"
   ]
  },
  {
   "cell_type": "code",
   "execution_count": null,
   "metadata": {
    "scrolled": true
   },
   "outputs": [],
   "source": [
    "L=A\\F;\n",
    "fhat=Ahat*L;"
   ]
  },
  {
   "cell_type": "markdown",
   "metadata": {},
   "source": [
    "## Plot the solutions"
   ]
  },
  {
   "cell_type": "code",
   "execution_count": null,
   "metadata": {
    "scrolled": true
   },
   "outputs": [],
   "source": [
    "using Plots\n",
    "plot(xhat,yhat,fhat,st=:surface)"
   ]
  },
  {
   "cell_type": "code",
   "execution_count": null,
   "metadata": {
    "scrolled": true
   },
   "outputs": [],
   "source": []
  }
 ],
 "metadata": {
  "kernelspec": {
   "display_name": "Julia 1.3.1",
   "language": "julia",
   "name": "julia-1.3"
  },
  "language_info": {
   "file_extension": ".jl",
   "mimetype": "application/julia",
   "name": "julia",
   "version": "1.3.1"
  }
 },
 "nbformat": 4,
 "nbformat_minor": 2
}
