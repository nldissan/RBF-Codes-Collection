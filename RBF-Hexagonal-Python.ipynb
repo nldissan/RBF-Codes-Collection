{
 "cells": [
  {
   "cell_type": "markdown",
   "metadata": {},
   "source": [
    "# Hexagonal Node Distribution for RBF-Methods\n",
    "\n",
    "1. $N$ is the total number of nodes\n",
    "2. lft and rht are the left and right boundary values of $x$\n",
    "3. top and bot are the top and bottom boundary values of $y$"
   ]
  },
  {
   "cell_type": "code",
   "execution_count": 52,
   "metadata": {},
   "outputs": [],
   "source": [
    "import numpy as np\n",
    "import math\n",
    "def hex(N,lft,rht,bot,top):\n",
    "    \n",
    "    Rad=math.sqrt(3)/2; # Radius\n",
    "    \n",
    "    X, Y =np.meshgrid(range(0,round(math.sqrt(N))),range(0,round(math.sqrt(N))));\n",
    "    \n",
    "    n=X.shape[0];\n",
    "    \n",
    "    X=Rad*X;\n",
    "    \n",
    "    X=X/X.max();\n",
    "   \n",
    "    import numpy.matlib\n",
    "    \n",
    "    Y=Y+np.matlib.repmat([0,0.5],n, n//2);\n",
    "    \n",
    "    Y=Y/Y.max();\n",
    "    \n",
    "    delta_x=rht-lft;\n",
    "    delta_y=top-bot;\n",
    "    \n",
    "    x=X.flatten('F')*delta_x+lft;\n",
    "    y=Y.flatten('F')*delta_y+bot;\n",
    "    \n",
    "    return x,y;\n",
    "    \n",
    "    \n",
    "    "
   ]
  },
  {
   "cell_type": "code",
   "execution_count": 53,
   "metadata": {},
   "outputs": [
    {
     "data": {
      "image/png": "[encoded data removed]",
      "text/plain": [
       "<Figure size 720x720 with 1 Axes>"
      ]
     },
     "metadata": {
      "needs_background": "light"
     },
     "output_type": "display_data"
    }
   ],
   "source": [
    "x,y=hex(100,0,2,-1,1)\n",
    "import matplotlib.pyplot as plt\n",
    "plt.rcParams[\"figure.figsize\"] = (10,10)\n",
    "plt.plot(x,y,'.')\n",
    "plt.show()\n"
   ]
  },
  {
   "cell_type": "code",
   "execution_count": null,
   "metadata": {},
   "outputs": [],
   "source": []
  }
 ],
 "metadata": {
  "kernelspec": {
   "display_name": "Python 3",
   "language": "python",
   "name": "python3"
  },
  "language_info": {
   "codemirror_mode": {
    "name": "ipython",
    "version": 3
   },
   "file_extension": ".py",
   "mimetype": "text/x-python",
   "name": "python",
   "nbconvert_exporter": "python",
   "pygments_lexer": "ipython3",
   "version": "3.7.4"
  }
 },
 "nbformat": 4,
 "nbformat_minor": 2
}
